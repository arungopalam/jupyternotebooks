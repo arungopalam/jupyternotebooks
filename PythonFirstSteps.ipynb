{
 "cells": [
  {
   "cell_type": "raw",
   "metadata": {
    "collapsed": true
   },
   "source": [
    "# Learning\n",
    "\n",
    "This notebook contains simple examples of using *Juypter Notebook* and *Python 3*."
   ]
  },
  {
   "cell_type": "markdown",
   "metadata": {},
   "source": [
    "## Example 1 - *Hello World*"
   ]
  },
  {
   "cell_type": "raw",
   "metadata": {},
   "source": [
    "my_name = \"Jerry\"           \n",
    "hello_statement = \"Hello, \" + my_name\n",
    "print(hello_statement, end='\\n\\n' )\n",
    "print(\"----\")\n",
    "x = 10"
   ]
  },
  {
   "cell_type": "raw",
   "metadata": {},
   "source": [
    "World's **best** loop is here"
   ]
  },
  {
   "cell_type": "raw",
   "metadata": {},
   "source": [
    "for j in range(1, 5):\n",
    "    x = x + j\n",
    "    print(\"j = {0}    x = {1}\".format(j, x))"
   ]
  },
  {
   "cell_type": "code",
   "execution_count": null,
   "metadata": {
    "collapsed": true
   },
   "outputs": [],
   "source": []
  }
 ],
 "metadata": {
  "kernelspec": {
   "display_name": "Python 3",
   "language": "python",
   "name": "python3"
  },
  "language_info": {
   "codemirror_mode": {
    "name": "ipython",
    "version": 3
   },
   "file_extension": ".py",
   "mimetype": "text/x-python",
   "name": "python",
   "nbconvert_exporter": "python",
   "pygments_lexer": "ipython3",
   "version": "3.6.2"
  }
 },
 "nbformat": 4,
 "nbformat_minor": 1
}
